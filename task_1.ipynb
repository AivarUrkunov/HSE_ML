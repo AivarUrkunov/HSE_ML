{
 "cells": [
  {
   "cell_type": "code",
   "execution_count": null,
   "id": "53d3c47e",
   "metadata": {
    "scrolled": true
   },
   "outputs": [],
   "source": [
    "!pip install -U scikit-learn"
   ]
  },
  {
   "cell_type": "markdown",
   "id": "31d44a26",
   "metadata": {},
   "source": [
    "### Выполнил студент МИВ-221: Айвар Уркунов"
   ]
  },
  {
   "cell_type": "markdown",
   "id": "8e824c09",
   "metadata": {},
   "source": [
    "# Часть 1. Линейная регрессия\n",
    "\n",
    "Датасет: https://www.kaggle.com/datasets/iamsouravbanerjee/house-rent-prediction-dataset \\\n",
    "\n",
    "Для приведенного выше датасета, построить модель линейной регрессии для оценивания стоимости аренды недвижимости. \\\n",
    "Для решения задачи предлагается использовать следующие подходы:\n",
    "1. Получить решение задачи в замкнутом виде с помощью псевдообратной матрицы. Рассмотреть случаи без регуляризации и с 𝐿2 регуляризацией.\n",
    "2. Получить решение задачи методом градиентного спуска. Получить формулу для градиента, используя матрицу признаков. Сравнить полученные решение с п.1.\n",
    "\n",
    "При решении задачи необходимо ответить на следующие вопросы:\n",
    "\n",
    "1. Какие признаки оказывают наибольший вклад в точность определения\n",
    "стоимости аренды? Предложить способы отбора наиболее важных признаков\n",
    "2. Какая модель имеет наименьшее значение функции потерь на тестовой\n",
    "выборке? Помогает ли регуляризация избежать эффекта переобучения в данном примере?"
   ]
  },
  {
   "cell_type": "markdown",
   "id": "79db700c",
   "metadata": {},
   "source": [
    "## Dataset Glossary.txt\n",
    "\n",
    "- BHK: Number of Bedrooms, Hall, Kitchen.\n",
    "\n",
    "- Rent: Rent of the Houses/Apartments/Flats.\n",
    "\n",
    "- Size: Size of the Houses/Apartments/Flats in Square Feet.\n",
    "\n",
    "- Floor: Houses/Apartments/Flats situated in which Floor and Total Number of Floors (Example: Ground out of 2, 3 out of 5, etc.)\n",
    "\n",
    "- Area Type: Size of the Houses/Apartments/Flats calculated on either Super Area or Carpet Area or Build Area.\n",
    "\n",
    "- Area Locality: Locality of the Houses/Apartments/Flats.\n",
    "\n",
    "- City: City where the Houses/Apartments/Flats are Located.\n",
    "\n",
    "- Furnishing Status: Furnishing Status of the Houses/Apartments/Flats, either it is Furnished or Semi-Furnished or Unfurnished.\n",
    "\n",
    "- Tenant Preferred: Type of Tenant Preferred by the Owner or Agent.\n",
    "\n",
    "- Bathroom: Number of Bathrooms.\n",
    "\n",
    "- Point of Contact: Whom should you contact for more information regarding the Houses/Apartments/Flats."
   ]
  },
  {
   "cell_type": "code",
   "execution_count": 81,
   "id": "be274111",
   "metadata": {},
   "outputs": [],
   "source": [
    "import pandas as pd\n",
    "import numpy as np\n",
    "from numpy.linalg import inv, pinv, norm\n",
    "from sklearn.model_selection import train_test_split\n",
    "from sklearn.linear_model import LinearRegression, Ridge\n",
    "from sklearn.metrics import mean_squared_error\n",
    "from sklearn.preprocessing import StandardScaler, OneHotEncoder\n",
    "from sklearn.compose import ColumnTransformer\n",
    "from sklearn.pipeline import Pipeline\n",
    "from sklearn.impute import SimpleImputer\n",
    "from sklearn.linear_model import SGDRegressor"
   ]
  },
  {
   "cell_type": "code",
   "execution_count": 82,
   "id": "e5ad88ea",
   "metadata": {},
   "outputs": [
    {
     "name": "stdout",
     "output_type": "stream",
     "text": [
      "['Posted On', 'BHK', 'Size', 'Floor', 'Area Type', 'Area Locality', 'City', 'Furnishing Status', 'Tenant Preferred', 'Bathroom', 'Point of Contact']\n"
     ]
    },
    {
     "data": {
      "text/html": [
       "<div>\n",
       "<style scoped>\n",
       "    .dataframe tbody tr th:only-of-type {\n",
       "        vertical-align: middle;\n",
       "    }\n",
       "\n",
       "    .dataframe tbody tr th {\n",
       "        vertical-align: top;\n",
       "    }\n",
       "\n",
       "    .dataframe thead th {\n",
       "        text-align: right;\n",
       "    }\n",
       "</style>\n",
       "<table border=\"1\" class=\"dataframe\">\n",
       "  <thead>\n",
       "    <tr style=\"text-align: right;\">\n",
       "      <th></th>\n",
       "      <th>Posted On</th>\n",
       "      <th>BHK</th>\n",
       "      <th>Size</th>\n",
       "      <th>Floor</th>\n",
       "      <th>Area Type</th>\n",
       "      <th>Area Locality</th>\n",
       "      <th>City</th>\n",
       "      <th>Furnishing Status</th>\n",
       "      <th>Tenant Preferred</th>\n",
       "      <th>Bathroom</th>\n",
       "      <th>Point of Contact</th>\n",
       "    </tr>\n",
       "  </thead>\n",
       "  <tbody>\n",
       "    <tr>\n",
       "      <th>0</th>\n",
       "      <td>2022-05-18</td>\n",
       "      <td>2</td>\n",
       "      <td>1100</td>\n",
       "      <td>Ground out of 2</td>\n",
       "      <td>Super Area</td>\n",
       "      <td>Bandel</td>\n",
       "      <td>Kolkata</td>\n",
       "      <td>Unfurnished</td>\n",
       "      <td>Bachelors/Family</td>\n",
       "      <td>2</td>\n",
       "      <td>Contact Owner</td>\n",
       "    </tr>\n",
       "    <tr>\n",
       "      <th>1</th>\n",
       "      <td>2022-05-13</td>\n",
       "      <td>2</td>\n",
       "      <td>800</td>\n",
       "      <td>1 out of 3</td>\n",
       "      <td>Super Area</td>\n",
       "      <td>Phool Bagan, Kankurgachi</td>\n",
       "      <td>Kolkata</td>\n",
       "      <td>Semi-Furnished</td>\n",
       "      <td>Bachelors/Family</td>\n",
       "      <td>1</td>\n",
       "      <td>Contact Owner</td>\n",
       "    </tr>\n",
       "    <tr>\n",
       "      <th>2</th>\n",
       "      <td>2022-05-16</td>\n",
       "      <td>2</td>\n",
       "      <td>1000</td>\n",
       "      <td>1 out of 3</td>\n",
       "      <td>Super Area</td>\n",
       "      <td>Salt Lake City Sector 2</td>\n",
       "      <td>Kolkata</td>\n",
       "      <td>Semi-Furnished</td>\n",
       "      <td>Bachelors/Family</td>\n",
       "      <td>1</td>\n",
       "      <td>Contact Owner</td>\n",
       "    </tr>\n",
       "    <tr>\n",
       "      <th>3</th>\n",
       "      <td>2022-07-04</td>\n",
       "      <td>2</td>\n",
       "      <td>800</td>\n",
       "      <td>1 out of 2</td>\n",
       "      <td>Super Area</td>\n",
       "      <td>Dumdum Park</td>\n",
       "      <td>Kolkata</td>\n",
       "      <td>Unfurnished</td>\n",
       "      <td>Bachelors/Family</td>\n",
       "      <td>1</td>\n",
       "      <td>Contact Owner</td>\n",
       "    </tr>\n",
       "    <tr>\n",
       "      <th>4</th>\n",
       "      <td>2022-05-09</td>\n",
       "      <td>2</td>\n",
       "      <td>850</td>\n",
       "      <td>1 out of 2</td>\n",
       "      <td>Carpet Area</td>\n",
       "      <td>South Dum Dum</td>\n",
       "      <td>Kolkata</td>\n",
       "      <td>Unfurnished</td>\n",
       "      <td>Bachelors</td>\n",
       "      <td>1</td>\n",
       "      <td>Contact Owner</td>\n",
       "    </tr>\n",
       "  </tbody>\n",
       "</table>\n",
       "</div>"
      ],
      "text/plain": [
       "    Posted On  BHK  Size            Floor    Area Type  \\\n",
       "0  2022-05-18    2  1100  Ground out of 2   Super Area   \n",
       "1  2022-05-13    2   800       1 out of 3   Super Area   \n",
       "2  2022-05-16    2  1000       1 out of 3   Super Area   \n",
       "3  2022-07-04    2   800       1 out of 2   Super Area   \n",
       "4  2022-05-09    2   850       1 out of 2  Carpet Area   \n",
       "\n",
       "              Area Locality     City Furnishing Status  Tenant Preferred  \\\n",
       "0                    Bandel  Kolkata       Unfurnished  Bachelors/Family   \n",
       "1  Phool Bagan, Kankurgachi  Kolkata    Semi-Furnished  Bachelors/Family   \n",
       "2   Salt Lake City Sector 2  Kolkata    Semi-Furnished  Bachelors/Family   \n",
       "3               Dumdum Park  Kolkata       Unfurnished  Bachelors/Family   \n",
       "4             South Dum Dum  Kolkata       Unfurnished         Bachelors   \n",
       "\n",
       "   Bathroom Point of Contact  \n",
       "0         2    Contact Owner  \n",
       "1         1    Contact Owner  \n",
       "2         1    Contact Owner  \n",
       "3         1    Contact Owner  \n",
       "4         1    Contact Owner  "
      ]
     },
     "execution_count": 82,
     "metadata": {},
     "output_type": "execute_result"
    }
   ],
   "source": [
    "# загрузим датасет и выделим фичи и таргет\n",
    "# загрузил датасет в директорию, в которой находится Python-ноутбук\n",
    "\n",
    "df = pd.read_csv('House_Rent_Dataset.csv')\n",
    "\n",
    "X = df.drop('Rent', axis=1)\n",
    "y = df['Rent']\n",
    "\n",
    "print(X.columns.tolist())\n",
    "X.head()"
   ]
  },
  {
   "cell_type": "code",
   "execution_count": 83,
   "id": "d8d36ca9",
   "metadata": {},
   "outputs": [],
   "source": [
    "# немного поресерчим загруженный датасет"
   ]
  },
  {
   "cell_type": "code",
   "execution_count": 84,
   "id": "a8e1eaef",
   "metadata": {},
   "outputs": [
    {
     "data": {
      "text/html": [
       "<div>\n",
       "<style scoped>\n",
       "    .dataframe tbody tr th:only-of-type {\n",
       "        vertical-align: middle;\n",
       "    }\n",
       "\n",
       "    .dataframe tbody tr th {\n",
       "        vertical-align: top;\n",
       "    }\n",
       "\n",
       "    .dataframe thead th {\n",
       "        text-align: right;\n",
       "    }\n",
       "</style>\n",
       "<table border=\"1\" class=\"dataframe\">\n",
       "  <thead>\n",
       "    <tr style=\"text-align: right;\">\n",
       "      <th></th>\n",
       "      <th>BHK</th>\n",
       "      <th>Size</th>\n",
       "      <th>Bathroom</th>\n",
       "    </tr>\n",
       "  </thead>\n",
       "  <tbody>\n",
       "    <tr>\n",
       "      <th>count</th>\n",
       "      <td>4746.000000</td>\n",
       "      <td>4746.000000</td>\n",
       "      <td>4746.000000</td>\n",
       "    </tr>\n",
       "    <tr>\n",
       "      <th>mean</th>\n",
       "      <td>2.083860</td>\n",
       "      <td>967.490729</td>\n",
       "      <td>1.965866</td>\n",
       "    </tr>\n",
       "    <tr>\n",
       "      <th>std</th>\n",
       "      <td>0.832256</td>\n",
       "      <td>634.202328</td>\n",
       "      <td>0.884532</td>\n",
       "    </tr>\n",
       "    <tr>\n",
       "      <th>min</th>\n",
       "      <td>1.000000</td>\n",
       "      <td>10.000000</td>\n",
       "      <td>1.000000</td>\n",
       "    </tr>\n",
       "    <tr>\n",
       "      <th>25%</th>\n",
       "      <td>2.000000</td>\n",
       "      <td>550.000000</td>\n",
       "      <td>1.000000</td>\n",
       "    </tr>\n",
       "    <tr>\n",
       "      <th>50%</th>\n",
       "      <td>2.000000</td>\n",
       "      <td>850.000000</td>\n",
       "      <td>2.000000</td>\n",
       "    </tr>\n",
       "    <tr>\n",
       "      <th>75%</th>\n",
       "      <td>3.000000</td>\n",
       "      <td>1200.000000</td>\n",
       "      <td>2.000000</td>\n",
       "    </tr>\n",
       "    <tr>\n",
       "      <th>max</th>\n",
       "      <td>6.000000</td>\n",
       "      <td>8000.000000</td>\n",
       "      <td>10.000000</td>\n",
       "    </tr>\n",
       "  </tbody>\n",
       "</table>\n",
       "</div>"
      ],
      "text/plain": [
       "               BHK         Size     Bathroom\n",
       "count  4746.000000  4746.000000  4746.000000\n",
       "mean      2.083860   967.490729     1.965866\n",
       "std       0.832256   634.202328     0.884532\n",
       "min       1.000000    10.000000     1.000000\n",
       "25%       2.000000   550.000000     1.000000\n",
       "50%       2.000000   850.000000     2.000000\n",
       "75%       3.000000  1200.000000     2.000000\n",
       "max       6.000000  8000.000000    10.000000"
      ]
     },
     "execution_count": 84,
     "metadata": {},
     "output_type": "execute_result"
    }
   ],
   "source": [
    "X.describe()"
   ]
  },
  {
   "cell_type": "code",
   "execution_count": 85,
   "id": "5103af19",
   "metadata": {},
   "outputs": [
    {
     "data": {
      "text/plain": [
       "Area Locality        2235\n",
       "Size                  615\n",
       "Floor                 480\n",
       "Posted On              81\n",
       "Bathroom                8\n",
       "BHK                     6\n",
       "City                    6\n",
       "Area Type               3\n",
       "Furnishing Status       3\n",
       "Tenant Preferred        3\n",
       "Point of Contact        3\n",
       "dtype: int64"
      ]
     },
     "execution_count": 85,
     "metadata": {},
     "output_type": "execute_result"
    }
   ],
   "source": [
    "X.nunique().sort_values(ascending=False)"
   ]
  },
  {
   "cell_type": "markdown",
   "id": "19c274d7",
   "metadata": {},
   "source": [
    "### 4 первые переменные имеют относительно большое кол-во уникальных значений, но Size является числовой переменной, возможно придется убирать из модели переменные Area Locality, Floor и Posted On. Возможно нужно будет как-то преобразовать или убрать признак Posted On, тк это переменная в формате даты."
   ]
  },
  {
   "cell_type": "code",
   "execution_count": 86,
   "id": "c5b7e9d1",
   "metadata": {},
   "outputs": [
    {
     "name": "stdout",
     "output_type": "stream",
     "text": [
      "['Posted On', 'Floor', 'Area Type', 'Area Locality', 'City', 'Furnishing Status', 'Tenant Preferred', 'Point of Contact']\n",
      "['BHK', 'Size', 'Bathroom']\n"
     ]
    },
    {
     "data": {
      "text/plain": [
       "Area Locality        2235\n",
       "Floor                 480\n",
       "Posted On              81\n",
       "City                    6\n",
       "Area Type               3\n",
       "Furnishing Status       3\n",
       "Tenant Preferred        3\n",
       "Point of Contact        3\n",
       "dtype: int64"
      ]
     },
     "execution_count": 86,
     "metadata": {},
     "output_type": "execute_result"
    }
   ],
   "source": [
    "# разделим категориальные и числовые переменные\n",
    "\n",
    "categorical_cols = [cname for cname in X.columns if\n",
    "                    X[cname].dtype == \"object\"]\n",
    "\n",
    "numerical_cols = [cname for cname in X.columns if \n",
    "                  X[cname].dtype in ['int64', 'float64']]\n",
    "\n",
    "print(categorical_cols, numerical_cols, sep='\\n')\n",
    "\n",
    "df[categorical_cols].nunique().sort_values(ascending=False)"
   ]
  },
  {
   "cell_type": "code",
   "execution_count": 87,
   "id": "e91746c6",
   "metadata": {},
   "outputs": [],
   "source": [
    "# Обработаем числовые и категориальные признаки"
   ]
  },
  {
   "cell_type": "code",
   "execution_count": 88,
   "id": "c9123b44",
   "metadata": {},
   "outputs": [],
   "source": [
    "numerical_transformer = SimpleImputer(strategy='median')\n",
    "\n",
    "categorical_transformer = Pipeline(steps=[\n",
    "    ('imputer', SimpleImputer(strategy='most_frequent')),\n",
    "    ('onehot', OneHotEncoder(handle_unknown='ignore'))\n",
    "])\n",
    "\n",
    "preprocessor = ColumnTransformer(\n",
    "    transformers=[\n",
    "        ('num', numerical_transformer, numerical_cols),\n",
    "        ('cat', categorical_transformer, categorical_cols)\n",
    "    ])"
   ]
  },
  {
   "cell_type": "code",
   "execution_count": 89,
   "id": "4e123ae5",
   "metadata": {},
   "outputs": [],
   "source": [
    "# определим модель линейной регрессии"
   ]
  },
  {
   "cell_type": "code",
   "execution_count": 90,
   "id": "d30f9b57",
   "metadata": {},
   "outputs": [],
   "source": [
    "model = LinearRegression()"
   ]
  },
  {
   "cell_type": "code",
   "execution_count": 91,
   "id": "b12a77fe",
   "metadata": {},
   "outputs": [],
   "source": [
    "# объединим обработку данных и определение модели в один пайплайн"
   ]
  },
  {
   "cell_type": "code",
   "execution_count": 92,
   "id": "f5b44e12",
   "metadata": {},
   "outputs": [],
   "source": [
    "clf = Pipeline(steps=[('preprocessor', preprocessor),\n",
    "                      ('model', model)\n",
    "                     ])"
   ]
  },
  {
   "cell_type": "code",
   "execution_count": 93,
   "id": "6c4747b0",
   "metadata": {},
   "outputs": [],
   "source": [
    "# разделим на обучающую и тестовую выборку в отношении 0.8/0.2"
   ]
  },
  {
   "cell_type": "code",
   "execution_count": 94,
   "id": "ca03ce6e",
   "metadata": {},
   "outputs": [],
   "source": [
    "X_train, X_test, y_train, y_test = train_test_split(X, y, test_size=0.2, random_state=0)"
   ]
  },
  {
   "cell_type": "code",
   "execution_count": 111,
   "id": "10bc68bf",
   "metadata": {},
   "outputs": [],
   "source": [
    "# обучим модель и спрогнозируем значения целевой переменной"
   ]
  },
  {
   "cell_type": "code",
   "execution_count": 96,
   "id": "a76b0eef",
   "metadata": {},
   "outputs": [],
   "source": [
    "clf.fit(X_train, y_train)\n",
    "preds = clf.predict(X_test)"
   ]
  },
  {
   "cell_type": "code",
   "execution_count": 97,
   "id": "55463ce3",
   "metadata": {},
   "outputs": [],
   "source": [
    "# RMSE"
   ]
  },
  {
   "cell_type": "code",
   "execution_count": 98,
   "id": "bcf48024",
   "metadata": {},
   "outputs": [
    {
     "data": {
      "text/plain": [
       "123041.08848601085"
      ]
     },
     "execution_count": 98,
     "metadata": {},
     "output_type": "execute_result"
    }
   ],
   "source": [
    "score = mean_squared_error(y_test, preds, squared=False)\n",
    "score"
   ]
  },
  {
   "cell_type": "markdown",
   "id": "e3107ee8",
   "metadata": {},
   "source": [
    "## Решение задачи в замкнутом виде\n",
    "\n",
    "Решение в Замкнутом Виде:\n",
    "- Без Регуляризации: Решение θ = (XᵀX)⁻¹Xᵀy, где X — матрица признаков, y — вектор целевых значений.\n",
    "- С L2 Регуляризацией: Решение θ = (XᵀX + λI)⁻¹Xᵀy, где λ — коэффициент регуляризации, I — единичная матрица."
   ]
  },
  {
   "cell_type": "code",
   "execution_count": null,
   "id": "d959fbc1",
   "metadata": {},
   "outputs": [],
   "source": [
    "target = 'Rent'"
   ]
  },
  {
   "cell_type": "code",
   "execution_count": 32,
   "id": "21a398d5",
   "metadata": {},
   "outputs": [],
   "source": [
    "def solution_in_closed_form(df, X, y, numerical_cols, target):\n",
    "    X = df[numerical_cols].to_numpy()\n",
    "    y = df[target].to_numpy()\n",
    "    m, n = X.shape\n",
    "\n",
    "    # добавление единицы к признакам для учета смещения\n",
    "    X_b = np.c_[np.ones((m, 1)), X]\n",
    "\n",
    "    # без регуляризации\n",
    "    theta_best = pinv(X_b.T.dot(X_b)).dot(X_b.T).dot(y)\n",
    "\n",
    "    # с L2 регуляризацией\n",
    "    lambda_reg = 1\n",
    "    theta_best_reg = pinv(X_b.T.dot(X_b) + lambda_reg * np.eye(n + 1)).dot(X_b.T).dot(y)\n",
    "\n",
    "    return theta_best, theta_best_reg"
   ]
  },
  {
   "cell_type": "code",
   "execution_count": 46,
   "id": "d50d6286",
   "metadata": {},
   "outputs": [
    {
     "name": "stdout",
     "output_type": "stream",
     "text": [
      "Параметры модели без регуляризации: [-3.87930445e+04 -1.54691474e+03  2.42409133e+01  2.72435614e+04]\n",
      "Параметры модели с L2 регуляризацией: [-3.87237370e+04 -1.55452023e+03  2.42639453e+01  2.72091833e+04]\n"
     ]
    }
   ],
   "source": [
    "solution_in_closed_form_parameters = solution_in_closed_form(df, X, y, numerical_cols, target)\n",
    "print(f\"Параметры модели без регуляризации: {solution_in_closed_form_parameters[0]}\"\n",
    "     , f\"Параметры модели с L2 регуляризацией: {solution_in_closed_form_parameters[1]}\"\n",
    "     , sep = '\\n')"
   ]
  },
  {
   "cell_type": "markdown",
   "id": "5e357756",
   "metadata": {},
   "source": [
    "## Метод градиентного спуска\n",
    "\n",
    "Метод градиентного спуска:\n",
    "- Определение функции стоимости, например, MSE.\n",
    "- Получение формулы для градиента: ∇ₜₕₑₜₐMSE(θ) = (2/m) Xᵀ(Xθ - y), где m — количество образцов.\n",
    "- Обновление весов θ на каждом шаге с использованием скорости обучения."
   ]
  },
  {
   "cell_type": "code",
   "execution_count": 41,
   "id": "ea5263cf",
   "metadata": {},
   "outputs": [],
   "source": [
    "def compute_cost(X, y, theta):\n",
    "    m = len(y)\n",
    "    predictions = X.dot(theta)\n",
    "    cost = (1 / (2 * m)) * np.sum(np.square(predictions - y))\n",
    "    return cost\n",
    "\n",
    "def gradient_descent(X, y, theta, learning_rate, num_iterations):\n",
    "    m = len(y)\n",
    "    cost_history = np.zeros(num_iterations)\n",
    "\n",
    "    for i in range(num_iterations):\n",
    "        gradients = 2/m * X.T.dot(X.dot(theta) - y)\n",
    "        theta = theta - learning_rate * gradients\n",
    "        cost_history[i] = compute_cost(X, y, theta)\n",
    "\n",
    "    return theta, cost_history\n",
    "\n",
    "def gradient_descent_method(df, X, y, numerical_cols, target):\n",
    "    X = df[numerical_cols].to_numpy()\n",
    "    y = df[target].to_numpy()\n",
    "    m, n = X.shape\n",
    "    \n",
    "    # масштабирую признаки\n",
    "    scaler = StandardScaler()\n",
    "    X_scaled = scaler.fit_transform(X)\n",
    "\n",
    "    # обавление единицы к масштабированным признакам для учета смещения\n",
    "    X_scaled_b = np.c_[np.ones((m, 1)), X_scaled]\n",
    "\n",
    "    # параметры градиентного спуска\n",
    "    theta = np.zeros(n + 1)\n",
    "    learning_rate = 0.01\n",
    "    num_iterations = 1000\n",
    "    \n",
    "    theta_gd, cost_history = gradient_descent(X_scaled_b, y, theta, learning_rate, num_iterations)\n",
    "    return theta_gd, cost_history[-1]"
   ]
  },
  {
   "cell_type": "code",
   "execution_count": 47,
   "id": "2af65c1f",
   "metadata": {},
   "outputs": [
    {
     "name": "stdout",
     "output_type": "stream",
     "text": [
      "Параметры модели методом градиентного спуска: [34993.45126854 -1091.57300411 15396.88047583 23877.56106276]\n",
      "Значении функции стоимости: 2404878866.108573\n"
     ]
    }
   ],
   "source": [
    "gradient_descent_method_parameters = gradient_descent_method(df, X, y, numerical_cols, target)\n",
    "print(f\"Параметры модели методом градиентного спуска: {gradient_descent_method_parameters[0]}\"\n",
    "     , f\"Значении функции стоимости: {gradient_descent_method_parameters[1]}\"\n",
    "     , sep = '\\n')"
   ]
  },
  {
   "cell_type": "markdown",
   "id": "107cc541",
   "metadata": {},
   "source": [
    "## Сравнение решений"
   ]
  },
  {
   "cell_type": "code",
   "execution_count": 48,
   "id": "c0177704",
   "metadata": {},
   "outputs": [
    {
     "name": "stdout",
     "output_type": "stream",
     "text": [
      "Параметры модели без регуляризации: [-3.87930445e+04 -1.54691474e+03  2.42409133e+01  2.72435614e+04]\n",
      "Параметры модели с L2 регуляризацией: [-3.87237370e+04 -1.55452023e+03  2.42639453e+01  2.72091833e+04]\n",
      "Параметры модели методом градиентного спуска: [34993.45126854 -1091.57300411 15396.88047583 23877.56106276]\n",
      "Значении функции стоимости: 2404878866.108573\n"
     ]
    }
   ],
   "source": [
    "print(f\"Параметры модели без регуляризации: {solution_in_closed_form_parameters[0]}\"\n",
    "     , f\"Параметры модели с L2 регуляризацией: {solution_in_closed_form_parameters[1]}\"\n",
    "     , f\"Параметры модели методом градиентного спуска: {gradient_descent_method_parameters[0]}\"\n",
    "     , sep = '\\n')"
   ]
  },
  {
   "cell_type": "markdown",
   "id": "983bf536",
   "metadata": {},
   "source": [
    "# Вопросы:"
   ]
  },
  {
   "cell_type": "markdown",
   "id": "17eef6d5",
   "metadata": {},
   "source": [
    "### 1) Какие признаки оказывают наибольший вклад в точность определения стоимости аренды? Предложить способы отбора наиболее важных признаков"
   ]
  },
  {
   "cell_type": "code",
   "execution_count": 65,
   "id": "a60a2f30",
   "metadata": {},
   "outputs": [
    {
     "data": {
      "image/png": "[encoded data removed]",
      "text/plain": [
       "<Figure size 1000x600 with 1 Axes>"
      ]
     },
     "metadata": {},
     "output_type": "display_data"
    }
   ],
   "source": [
    "import matplotlib.pyplot as plt\n",
    "\n",
    "coefficients = lr.coef_[1:]\n",
    "\n",
    "plt.figure(figsize=(10, 6))\n",
    "plt.bar(numerical_cols, np.abs(coefficients))\n",
    "plt.xlabel('Признаки')\n",
    "plt.ylabel('Вес признака')\n",
    "plt.title('Вес признаков в линейной регрессии')\n",
    "# plt.xticks(rotation=45)\n",
    "plt.show()"
   ]
  },
  {
   "cell_type": "markdown",
   "id": "30c3390d",
   "metadata": {},
   "source": [
    "Наиболее важным из числовых признаков является Bathroom - кол-во ванных комнат\n",
    "\n",
    "Существует несколько методов отбора признаков:\n",
    "- Обертывающие методы (Wrapper methods): Используют конкретный алгоритм машинного обучения и оценивают комбинации признаков, например, рекурсивное устранение признаков (RFE).\n",
    "- Фильтрационные методы (Filter methods): Оценивают значимость признаков на основе статистических тестов, например, корреляции.\n",
    "- Встраиваемые методы (Embedded methods): Интегрируют отбор признаков в процесс обучения, например, Lasso регрессия, которая использует L1 регуляризацию."
   ]
  },
  {
   "cell_type": "markdown",
   "id": "df742771",
   "metadata": {},
   "source": [
    "### 2) Какая модель имеет наименьшее значение функции потерь на тестовой выборке? Помогает ли регуляризация избежать эффекта переобучения в данном примере?"
   ]
  },
  {
   "cell_type": "code",
   "execution_count": 57,
   "id": "80413c82",
   "metadata": {},
   "outputs": [
    {
     "data": {
      "text/plain": [
       "(126175.17374792077, 126175.71691151026, 125664.6064539341)"
      ]
     },
     "execution_count": 57,
     "metadata": {},
     "output_type": "execute_result"
    }
   ],
   "source": [
    "X = df[numerical_cols].to_numpy()\n",
    "y = df[target].to_numpy()\n",
    "m, n = X.shape\n",
    "scaler = StandardScaler()\n",
    "X_scaled = scaler.fit_transform(X)\n",
    "\n",
    "X_train_scaled, X_test_scaled, y_train, y_test = train_test_split(X_scaled, y, test_size=0.2, random_state=0)\n",
    "\n",
    "# добавление столбца с единицами для учета смещения\n",
    "X_train_scaled_b = np.c_[np.ones((X_train_scaled.shape[0], 1)), X_train_scaled]\n",
    "X_test_scaled_b = np.c_[np.ones((X_test_scaled.shape[0], 1)), X_test_scaled]\n",
    "\n",
    "# обучение модели без регуляризации\n",
    "lr = LinearRegression()\n",
    "lr.fit(X_train_scaled_b, y_train)\n",
    "y_pred_lr = lr.predict(X_test_scaled_b)\n",
    "mse_lr = mean_squared_error(y_test, y_pred_lr)\n",
    "\n",
    "# обучение модели с L2 регуляризацией (Ridge)\n",
    "ridge = Ridge(alpha=1.0)\n",
    "ridge.fit(X_train_scaled_b, y_train)\n",
    "y_pred_ridge = ridge.predict(X_test_scaled_b)\n",
    "mse_ridge = mean_squared_error(y_test, y_pred_ridge)\n",
    "\n",
    "# обучение модели с помощью стохастического градиентного спуска\n",
    "sgd_reg = SGDRegressor(max_iter=1000, tol=0.001, penalty=None, eta0=0.1, random_state=0)\n",
    "sgd_reg.fit(X_train_scaled, y_train.ravel())\n",
    "y_pred_sgd = sgd_reg.predict(X_test_scaled)\n",
    "mse_sgd = mean_squared_error(y_test, y_pred_sgd)\n",
    "\n",
    "np.sqrt(mse_lr), np.sqrt(mse_ridge), np.sqrt(mse_sgd)"
   ]
  },
  {
   "cell_type": "markdown",
   "id": "33333ab9",
   "metadata": {},
   "source": [
    "В данном случае регуляризация не оказывает значительного влияния на уменьшение переобучения, тк все три модели показывают схожую производительность на тестовой выборке."
   ]
  },
  {
   "cell_type": "code",
   "execution_count": null,
   "id": "95cb3771",
   "metadata": {},
   "outputs": [],
   "source": []
  }
 ],
 "metadata": {
  "kernelspec": {
   "display_name": "Python 3 (ipykernel)",
   "language": "python",
   "name": "python3"
  },
  "language_info": {
   "codemirror_mode": {
    "name": "ipython",
    "version": 3
   },
   "file_extension": ".py",
   "mimetype": "text/x-python",
   "name": "python",
   "nbconvert_exporter": "python",
   "pygments_lexer": "ipython3",
   "version": "3.11.2"
  }
 },
 "nbformat": 4,
 "nbformat_minor": 5
}
